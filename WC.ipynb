{
 "cells": [
  {
   "cell_type": "code",
   "execution_count": 3,
   "id": "d405efb1",
   "metadata": {},
   "outputs": [
    {
     "name": "stdout",
     "output_type": "stream",
     "text": [
      "Requirement already satisfied: lecroyparser in /usr/local/lib/python3.6/site-packages (1.4.2)\n",
      "Requirement already satisfied: numpy in /usr/local/lib64/python3.6/site-packages (from lecroyparser) (1.19.5)\n",
      "\u001b[33mWARNING: Running pip as the 'root' user can result in broken permissions and conflicting behaviour with the system package manager. It is recommended to use a virtual environment instead: https://pip.pypa.io/warnings/venv\u001b[0m\n",
      "Note: you may need to restart the kernel to use updated packages.\n"
     ]
    }
   ],
   "source": [
    "pip install lecroyparser"
   ]
  },
  {
   "cell_type": "code",
   "execution_count": 84,
   "id": "25a32ad1-e896-4ce9-9944-d573794924a5",
   "metadata": {},
   "outputs": [
    {
     "name": "stdout",
     "output_type": "stream",
     "text": [
      "Collecting tables\n",
      "  Downloading tables-3.7.0-cp36-cp36m-manylinux_2_17_x86_64.manylinux2014_x86_64.whl (6.0 MB)\n",
      "     |################################| 6.0 MB 2.9 MB/s            \n",
      "\u001b[?25hRequirement already satisfied: packaging in /usr/local/lib/python3.6/site-packages (from tables) (21.3)\n",
      "Collecting numexpr>=2.6.2\n",
      "  Downloading numexpr-2.8.1-cp36-cp36m-manylinux_2_17_x86_64.manylinux2014_x86_64.whl (378 kB)\n",
      "     |################################| 378 kB 31.4 MB/s            \n",
      "\u001b[?25hRequirement already satisfied: numpy>=1.19.0 in /usr/local/lib64/python3.6/site-packages (from tables) (1.19.5)\n",
      "Requirement already satisfied: pyparsing!=3.0.5,>=2.0.2 in /usr/local/lib/python3.6/site-packages (from packaging->tables) (3.0.9)\n",
      "Installing collected packages: numexpr, tables\n",
      "Successfully installed numexpr-2.8.1 tables-3.7.0\n",
      "\u001b[33mWARNING: Running pip as the 'root' user can result in broken permissions and conflicting behaviour with the system package manager. It is recommended to use a virtual environment instead: https://pip.pypa.io/warnings/venv\u001b[0m\n",
      "Note: you may need to restart the kernel to use updated packages.\n"
     ]
    }
   ],
   "source": [
    "pip install tables"
   ]
  },
  {
   "cell_type": "code",
   "execution_count": 276,
   "id": "79a3cf54",
   "metadata": {},
   "outputs": [],
   "source": [
    "import numpy as np\n",
    "from matplotlib import pyplot as plt\n",
    "import os\n",
    "import lecroyparser\n",
    "\n",
    "# mount my drive \n",
    "#from google.colab import drive\n",
    "#drive.mount('/content/drive')\n",
    "path='/jupyter-workspace/cloud-storage/cygno-data/WC/'"
   ]
  },
  {
   "cell_type": "code",
   "execution_count": 17,
   "id": "a8c60aa1",
   "metadata": {},
   "outputs": [
    {
     "name": "stdout",
     "output_type": "stream",
     "text": [
      "C1--WC--02802.trc\n",
      "Le Croy Scope Data\n",
      "Path: None - from bytes data\n",
      "Endianness: <\n",
      "Instrument: LECROYWaveRunner\n",
      "Instrument Number: 20543\n",
      "Template Name: LECROY_2_3\n",
      "Channel: Channel 1\n",
      "WaveArrayCount: 2002\n",
      "Vertical Coupling: DC1M\n",
      "Bandwidth Limit: off\n",
      "Record Type: single_sweep\n",
      "Processing: No Processing\n",
      "TimeBase: 10 ns/div\n",
      "TriggerTime: 2023-05-08 15:38:11.36\n",
      "\n",
      "2.59448e-06 10 ns/div -9.944604023496574e-08 0.076\n"
     ]
    },
    {
     "data": {
      "image/png": "[encoded data removed]",
      "text/plain": [
       "<Figure size 432x288 with 1 Axes>"
      ]
     },
     "metadata": {
      "needs_background": "light"
     },
     "output_type": "display_data"
    },
    {
     "name": "stdout",
     "output_type": "stream",
     "text": [
      " int: 2.08e-10, min: -0.040, mean out of time: -0.002\n"
     ]
    }
   ],
   "source": [
    "def wave_s(path, filename, usamle, verbose=False):\n",
    "    import numpy as np\n",
    "\n",
    "    if verbose: \n",
    "        print(filename)\n",
    "        \n",
    "    f = open(path+filename, 'rb')\n",
    "    data = lecroyparser.ScopeData(data = f.read(), sparse = usamle)\n",
    "    plt.plot(data.x, data.y)\n",
    "\n",
    "    if verbose: \n",
    "        print (data)\n",
    "        print(data.verticalGain, data.timeBase, data.horizOffset, data.verticalOffset)\n",
    "    f.close()\n",
    "    plt.show()\n",
    "    print(\" int: {:.2e}, min: {:.3f}, mean out of time: {:.3f}\".format(np.trapz(data.x, data.y),  \n",
    "                                                        np.min(data.y), \n",
    "                                                        np.mean(data.y[data.x<-0.7e-7])))\n",
    "\n",
    "wave_s(path, filename='C1--WC--02802.trc', usamle = 100, verbose=True)"
   ]
  },
  {
   "cell_type": "code",
   "execution_count": 211,
   "id": "be878ba8-9e30-43d8-87a5-3720dc782eed",
   "metadata": {},
   "outputs": [],
   "source": [
    "path='/jupyter-workspace/cloud-storage/cygno-data/WC/'\n",
    "files_all = os.listdir(path)"
   ]
  },
  {
   "cell_type": "code",
   "execution_count": 283,
   "id": "1e1d1b1f",
   "metadata": {},
   "outputs": [],
   "source": [
    "def Gauss3(x, a0, x0, s0):\n",
    "    import numpy as np\n",
    "    return a0 * np.exp(-(x - x0)**2 / (2 * s0**2))\n",
    "\n",
    "def wave(path, files, usamle, th = -0.005, doplot=False, verbose=False):\n",
    "    import numpy as np\n",
    "    x_cut_min = -0.85e-7\n",
    "    x_cut_max = -0.50e-7\n",
    "    under_th = []\n",
    "    min_w = []\n",
    "    int_w = []\n",
    "    min_pos_w = []\n",
    "    for i, filename in enumerate(files):\n",
    "        f = open(path+filename, 'rb')\n",
    "        data = lecroyparser.ScopeData(data = f.read(), sparse = usamle)\n",
    "        data_offset = np.mean(data.y[data.x<x_cut_min])\n",
    "        data_offsigma = np.std(data.y[data.x<x_cut_min])\n",
    "        if verbose: \n",
    "            print(i, path, filename)\n",
    "            print(data_offset, data_offsigma)\n",
    "        #print(data_offset, data_offsigma)\n",
    "        y = data.y-data_offset\n",
    "        min_w.append(np.min(y))\n",
    "        int_w.append(np.trapz(y))\n",
    "\n",
    "        #min_pos_w.append(data.x[np.where(data.y == data.y.min())][0])\n",
    "        under_th.append(filename)\n",
    "        if doplot:\n",
    "            plt.plot(data.x, y)\n",
    "        if min(y)<th:      \n",
    "            min_pos_w.append(data.x[np.where(y < th)][0])\n",
    "        else:\n",
    "            min_pos_w.append(-1)\n",
    "\n",
    "            \n",
    "        if verbose: print (data)\n",
    "        f.close()\n",
    "    if doplot:\n",
    "        plt.ylim(-0.030, 0.010)\n",
    "        plt.axhline(th)\n",
    "        plt.axvline(x_cut_min)\n",
    "        plt.show()\n",
    "\n",
    "    return np.array(under_th), np.array(min_w), np.array(int_w), np.array(min_pos_w)\n",
    "\n",
    "\n",
    "def histGaus(var, bins, ax, color='b', xrange=False, alpha=1, label=''):\n",
    "    from sklearn.metrics import r2_score\n",
    "    from scipy.stats import chisquare\n",
    "    import scipy.stats as stats\n",
    "    from scipy.optimize import curve_fit\n",
    "    import numpy as np\n",
    "    var = np.array(var)\n",
    "    if xrange:\n",
    "        ax.hist(var, bins=bins, label=label, color=color, range=(xrange[0], xrange[1]), alpha=alpha)\n",
    "        y, bins_edge = np.histogram(var, bins=bins, range=(xrange[0], xrange[1]))\n",
    "        p0=[y.max(),bins_edge[y.argmax()], np.std(var[var>xrange[0]])]\n",
    "        #print(p0)\n",
    "    else:\n",
    "        ax.hist(var, bins=bins, label=label, color=color)\n",
    "        y, bins_edge = np.histogram(var, bins=bins)\n",
    "        p0=[y.max(),bins_edge[y.argmax()], np.std(var)]\n",
    "    x = np.linspace(bins_edge[0], bins_edge[-1], bins)\n",
    "    popt, pcov = curve_fit(Gauss3, x, y, p0=p0)\n",
    "    perr = np.sqrt(np.diag(pcov))\n",
    "    r2=r2_score(y, Gauss3(x, *popt))\n",
    "    x = np.linspace(bins_edge[0], bins_edge[-1], 100)\n",
    "    sstat='a = {0:.2e} +/- {1:.2e}\\nb = {2:.2e} +/- {3:.2e} \\\n",
    "    \\nc = {4:.2e} +/- {5:.2e}\\n$R^2$ = {6:.4f}'.format(popt[0], perr[0], popt[1], perr[1], \n",
    "                                                popt[2], perr[2], r2)\n",
    "    ax.plot(x,Gauss3(x, *popt), color+'--', label=sstat)\n",
    "    return ax\n",
    "\n",
    "def outdata(min_w, int_w, min_pos_w):\n",
    "    fig, ax = plt.subplots(1,3, figsize=(12, 5))\n",
    "    ax[0].hist(min_w, bins=100, color='r')\n",
    "    ax[0].set_title(\"min value\")\n",
    "    ax[0].set_xlim(-0.1, 0)\n",
    "    ax[0].set_yscale('log')\n",
    "    ax[1].hist(int_w, bins=100, color='gray')\n",
    "    ax[1].set_title(\"charge\")\n",
    "    ax[1].set_xlim(-2, 0)\n",
    "    ax[1].set_yscale('log')\n",
    "    ax[2]=histGaus(min_pos_w, bins=50, ax=ax[2], color='b', xrange=[-8e-8, -5e-8], alpha=1, label='')\n",
    "    ax[2].set_title(\"time th\")\n",
    "    plt.legend()\n",
    "    plt.show()\n",
    "    return\n",
    "\n",
    "\n",
    "def outdata2(C1, C2, th1, th2, verbose=False):\n",
    "    C1 = np.array(C1)\n",
    "    C2 = np.array(C2)\n",
    "    print (len(C1), len(C2))\n",
    "    fig, ax = plt.subplots(1,2, figsize=(8, 5))\n",
    "    cond=(C1<th1) & (C2<th2)\n",
    "    #print(cond)\n",
    "    ax[0].plot(C1[cond], C2[cond], 'k.')\n",
    "    ax[0].set_title(\"C1 vs C2 (C1<{:.3f})\".format(th))\n",
    "    ax[0].set_xlim(-2, 0)\n",
    "    ax[0].set_ylim(-2, 0)\n",
    "\n",
    "    ax[1].hist(C1[cond]/C2[cond], bins=50, color='gray', label=\"{:.2f}\".format(np.mean(C1[cond]/C2[cond])))\n",
    "    #print(C1[cond], C2[cond], C1[cond]/C2[cond])\n",
    "    ax[1].set_title(\"C1/C2 (C1<{:.3f} C2<{:.3f})\".format(th1, th2))\n",
    "    ax[1].set_xlim(0, 20)\n",
    "    ax[1].set_yscale(\"log\")\n",
    "    ax[1].legend()\n",
    "    plt.show()\n",
    "    return\n",
    "\n"
   ]
  },
  {
   "cell_type": "code",
   "execution_count": 167,
   "id": "6679f6d5-d597-4c6a-a3e1-91c275241f9a",
   "metadata": {},
   "outputs": [
    {
     "name": "stdout",
     "output_type": "stream",
     "text": [
      "0 /jupyter-workspace/cloud-storage/cygno-data/WC/ C2--WC--middle--flter--00011.trc\n",
      "-0.0013902953 0.0003079126\n",
      "Le Croy Scope Data\n",
      "Path: None - from bytes data\n",
      "Endianness: <\n",
      "Instrument: LECROYWaveRunner\n",
      "Instrument Number: 20543\n",
      "Template Name: LECROY_2_3\n",
      "Channel: Channel 2\n",
      "WaveArrayCount: 2002\n",
      "Vertical Coupling: DC1M\n",
      "Bandwidth Limit: on\n",
      "Record Type: single_sweep\n",
      "Processing: No Processing\n",
      "TimeBase: 10 ns/div\n",
      "TriggerTime: 2023-05-11 14:10:53.99\n",
      "\n"
     ]
    },
    {
     "data": {
      "image/png": "[encoded data removed]",
      "text/plain": [
       "<Figure size 432x288 with 1 Axes>"
      ]
     },
     "metadata": {
      "needs_background": "light"
     },
     "output_type": "display_data"
    },
    {
     "data": {
      "text/plain": [
       "(array(['C2--WC--middle--flter--00011.trc'], dtype='<U32'),\n",
       " array([-0.01243569], dtype=float32),\n",
       " array([-0.21842462], dtype=float32),\n",
       " array([-6.23915069e-08]))"
      ]
     },
     "execution_count": 167,
     "metadata": {},
     "output_type": "execute_result"
    }
   ],
   "source": [
    "# from scipy import signal\n",
    "# usamle = 100\n",
    "# data = lecroyparser.ScopeData(path+'C1--WC--middle--flter--00005.trc')\n",
    "# plt.plot(data.x, data.y)\n",
    "# data_rs = signal.resample(data.y, usamle, data.x)\n",
    "# plt.plot(data_rs[1], data_rs[0])\n",
    "# plt.ylim(-0.030, 0.010)\n",
    "# #plt.xlim(-8e-8, -5e-8)\n",
    "# plt.show()\n",
    "wave(path, [\"C2--WC--middle--flter--00011.trc\"], usamle, th = -0.0015, doplot=True, verbose=True)"
   ]
  },
  {
   "cell_type": "code",
   "execution_count": 21,
   "id": "fa020c9e-83d4-4bca-a605-06277cff60b7",
   "metadata": {},
   "outputs": [
    {
     "name": "stdout",
     "output_type": "stream",
     "text": [
      "total files 94189\n",
      "C0 0\n",
      "C1 28377\n",
      "C2 28378\n",
      "C3 28384\n"
     ]
    }
   ],
   "source": [
    "print(\"total files\", len(files_all))\n",
    "\n",
    "files3 = [f for f in files_all if 'C3' in f]\n",
    "files2 = [f for f in files_all if 'C2' in f]\n",
    "files1 = [f for f in files_all if 'C1' in f]\n",
    "files0 = [f for f in files_all if 'C0' in f]\n",
    "print (\"C0\", len(files0))\n",
    "print (\"C1\", len(files1))\n",
    "print (\"C2\", len(files2))\n",
    "print (\"C3\", len(files3))\n",
    "    "
   ]
  },
  {
   "cell_type": "code",
   "execution_count": 22,
   "id": "c74db5cd-45f8-4f7f-869f-4991c94f2122",
   "metadata": {},
   "outputs": [
    {
     "name": "stdout",
     "output_type": "stream",
     "text": [
      "21889 6708 39097 12848\n"
     ]
    }
   ],
   "source": [
    "\n",
    "filest1 = [f for f in files_all if 'trigger1' in f]\n",
    "filest2 = [f for f in files_all if 'trigger2' in f]\n",
    "filesf = [f for f in files_all if 'flter' in f]\n",
    "filesm = [f for f in files_all if 'middle' in f]\n",
    "print(len(filest1), len(filest2), len(filesf), len(filesm))"
   ]
  },
  {
   "cell_type": "code",
   "execution_count": 23,
   "id": "933828bf-36cd-434b-a85e-07cbdaae33a9",
   "metadata": {},
   "outputs": [
    {
     "name": "stdout",
     "output_type": "stream",
     "text": [
      "17412 8568 6708\n"
     ]
    }
   ],
   "source": [
    "files_trL = [f for f in filesf if 'trigger1' in f]\n",
    "files_trC = [f for f in filesf if 'middle' in f]\n",
    "files_trR = [f for f in filesf if 'trigger2' in f]\n",
    "print(len(files_trL), len(files_trC), len(files_trR))"
   ]
  },
  {
   "cell_type": "code",
   "execution_count": 25,
   "id": "e5ff0a03-9d51-4734-8eb2-ee8dd63fda1d",
   "metadata": {},
   "outputs": [
    {
     "name": "stdout",
     "output_type": "stream",
     "text": [
      "1000 1000 1000\n",
      "1000 1000 1000\n",
      "1000 1000 1000\n"
     ]
    }
   ],
   "source": [
    "sample=1000\n",
    "C1_trL = [f for f in files_trL if 'C1' in f][:sample]\n",
    "C2_trL = [f for f in files_trL if 'C2' in f][:sample]\n",
    "C3_trL = [f for f in files_trL if 'C3' in f][:sample]\n",
    "print(len(C1_trL), len(C2_trL), len(C3_trL))\n",
    "C1_trR = [f for f in files_trR if 'C1' in f][:sample]\n",
    "C2_trR = [f for f in files_trR if 'C2' in f][:sample]\n",
    "C3_trR = [f for f in files_trR if 'C3' in f][:sample]\n",
    "print(len(C1_trR), len(C2_trR), len(C3_trR))\n",
    "C1_trC = [f for f in files_trC if 'C1' in f][:sample]\n",
    "C2_trC = [f for f in files_trC if 'C2' in f][:sample]\n",
    "C3_trC = [f for f in files_trC if 'C3' in f][:sample]\n",
    "print(len(C1_trC), len(C2_trC), len(C3_trC))"
   ]
  },
  {
   "cell_type": "code",
   "execution_count": null,
   "id": "8d41ab34-fa7c-41bc-9929-2a9baddcf488",
   "metadata": {},
   "outputs": [],
   "source": [
    "path='/jupyter-workspace/cloud-storage/cygno-data/WC/'\n",
    "th = -0.005\n",
    "# under_th, min_w, int_w, min_pos_w = wave(path, C3_trL, usamle, th = th)\n",
    "# print(len(under_th))\n",
    "# fig, ax = plt.subplots(1,3, figsize=(9, 3))\n",
    "# ax[0].hist(min_w, bins=len(min_w))\n",
    "# ax[1].hist(int_w, bins=len(int_w))\n",
    "# ax[2].hist(min_pos_w, bins=len(min_pos_w))\n",
    "# plt.show()\n",
    "\n",
    "under_th, min_w, int_w, min_pos_w = wave(path, C2_trL, usamle, th = th)\n",
    "outdata(under_th, min_w, int_w, min_pos_w)\n",
    "c2 = int_w\n",
    "under_th, min_w, int_w, min_pos_w = wave(path, C1_trL, usamle, th = th)\n",
    "outdata(min_w, int_w, min_pos_w)\n",
    "c1 = int_w\n",
    "outdata2(c1, c2)\n",
    "\n",
    "under_th, min_w, int_w, min_pos_w = wave(path, C2_trC, usamle, th = th)\n",
    "outdata(min_w, int_w, min_pos_w)\n",
    "c2 = int_w\n",
    "under_th, min_w, int_w, min_pos_w = wave(path, C1_trC, usamle, th = th)\n",
    "outdata(min_w, int_w, min_pos_w)\n",
    "c1 = int_w\n",
    "outdata2(c1, c2)\n",
    "\n",
    "under_th, min_w, int_w, min_pos_w = wave(path, C2_trR, usamle, th = th)\n",
    "outdata(min_w, int_w, min_pos_w)\n",
    "c2 = int_w\n",
    "under_th, min_w, int_w, min_pos_w = wave(path, C1_trR, usamle, th = th)\n",
    "outdata(min_w, int_w, min_pos_w)\n",
    "c1 = int_w\n",
    "outdata2(c1, c2)"
   ]
  },
  {
   "cell_type": "code",
   "execution_count": 27,
   "id": "3ff8d990-9b4f-4ef0-908a-7ba15cdabfe1",
   "metadata": {},
   "outputs": [
    {
     "data": {
      "image/png": "[encoded data removed]",
      "text/plain": [
       "<Figure size 432x288 with 1 Axes>"
      ]
     },
     "metadata": {
      "needs_background": "light"
     },
     "output_type": "display_data"
    }
   ],
   "source": [
    "ne = np.array([[124,385],\n",
    "     [213,322],\n",
    "     [265,234]])\n",
    "plt.plot([-1,0,1], ne[:,0])\n",
    "plt.plot([-1,0,1], ne[:,1])\n",
    "plt.ylabel(\"PMTs rate\")\n",
    "plt.xlabel(\"position (-1 Left, 0 Center, 1 Right)\")\n",
    "plt.show()"
   ]
  },
  {
   "cell_type": "code",
   "execution_count": 297,
   "id": "8aa078ec-ed42-4d61-96b8-6b8e51309b2b",
   "metadata": {},
   "outputs": [
    {
     "name": "stdout",
     "output_type": "stream",
     "text": [
      "2 2 6\n"
     ]
    }
   ],
   "source": [
    "path='/jupyter-workspace/cloud-storage/cygno-data/WC/'\n",
    "files_all = os.listdir(path)\n",
    "sample = 600\n",
    "where = 'center--2150'\n",
    "CFD = [f for f in files_all if 'CFD' in f]\n",
    "side = [f for f in CFD if where in f]\n",
    "C1_tr1 = [f for f in side if 'C1' in f][:sample]\n",
    "C2_tr1 = [f for f in side if 'C2' in f][:sample]\n",
    "C3_tr1 = [f for f in side if 'C3' in f][:sample]\n",
    "print(len(C1_tr1), len(C1_tr1), len(C3_tr1))\n"
   ]
  },
  {
   "cell_type": "code",
   "execution_count": null,
   "id": "b791c852-e690-4968-8c44-728a4c0956f2",
   "metadata": {},
   "outputs": [],
   "source": []
  },
  {
   "cell_type": "code",
   "execution_count": 292,
   "id": "3fad3b27-9cde-430e-88b0-74cda0478e8b",
   "metadata": {},
   "outputs": [],
   "source": [
    "import pandas as pd\n",
    "df = pd.DataFrame()\n",
    "# dt = pd.DataFrame()\n",
    "th = -0.0015\n",
    "under_th, min_w, int_w, min_pos_w = wave(path, C1_tr1, usamle, th = th)\n",
    "df['c1_under_th']=under_th\n",
    "df['c1_min']=min_w\n",
    "df['c1_int_w']=int_w\n",
    "df['c1_min_pos_w']=min_pos_w\n",
    "under_th, min_w, int_w, min_pos_w = wave(path, C2_tr1, usamle, th = th)\n",
    "df['c2_under_th']=under_th\n",
    "df['c2_min']=min_w\n",
    "df['c2_int_w']=int_w\n",
    "df['c2_min_pos_w']=min_pos_w"
   ]
  },
  {
   "cell_type": "code",
   "execution_count": 294,
   "id": "c67aec59-9f3e-4b28-8fbb-a54a15d845e1",
   "metadata": {},
   "outputs": [],
   "source": [
    "store = pd.HDFStore(where+str(sample)+'.h5')\n",
    "store['df'] = df\n",
    "#store['df'] to read"
   ]
  },
  {
   "cell_type": "code",
   "execution_count": 295,
   "id": "bd528237-d561-4e97-97cf-9fcdf280ebf9",
   "metadata": {},
   "outputs": [
    {
     "data": {
      "image/png": "[encoded data removed]",
      "text/plain": [
       "<Figure size 864x360 with 3 Axes>"
      ]
     },
     "metadata": {
      "needs_background": "light"
     },
     "output_type": "display_data"
    },
    {
     "data": {
      "image/png": "[encoded data removed]",
      "text/plain": [
       "<Figure size 864x360 with 3 Axes>"
      ]
     },
     "metadata": {
      "needs_background": "light"
     },
     "output_type": "display_data"
    }
   ],
   "source": [
    "\n",
    "outdata(df['c1_min'][:sample], df['c1_int_w'][:sample], df['c1_min_pos_w'][:sample])\n",
    "outdata(df['c2_min'][:sample], df['c2_int_w'][:sample], df['c2_min_pos_w'][:sample])\n"
   ]
  },
  {
   "cell_type": "code",
   "execution_count": 296,
   "id": "c0950795-e3fb-4179-9a8b-6c2247144682",
   "metadata": {},
   "outputs": [
    {
     "name": "stdout",
     "output_type": "stream",
     "text": [
      "600 600\n"
     ]
    },
    {
     "data": {
      "image/png": "[encoded data removed]",
      "text/plain": [
       "<Figure size 576x360 with 2 Axes>"
      ]
     },
     "metadata": {
      "needs_background": "light"
     },
     "output_type": "display_data"
    }
   ],
   "source": [
    "outdata2(df['c1_int_w'][:sample], df['c2_int_w'][:sample], th1= -0.1, th2=-0.1)"
   ]
  },
  {
   "cell_type": "code",
   "execution_count": 91,
   "id": "c17d93c7-bb34-43cc-87cb-e45433d1ec0d",
   "metadata": {},
   "outputs": [],
   "source": [
    "store = pd.HDFStore('site1_CFD.h5')\n",
    "dr = store[\"df\"]"
   ]
  },
  {
   "cell_type": "code",
   "execution_count": 27,
   "id": "4c72e1f9-97bb-430c-ab2f-7ed88e86f335",
   "metadata": {},
   "outputs": [],
   "source": [
    "# siamo al centro\n",
    "# file 610 cambiata soglia C2 a 1900\n",
    "# 672 HV 1850\n",
    "# 725 cambiata scala oscilloscopio al centro\n",
    "# 1080 spostato su C2\n",
    "# 1430 ci spostiemo su C1\n",
    "# 2170 rimettiamo al \n",
    "# in mezzo butta\n",
    "# 2337 vicino C2\n",
    "#files_all = [f for f in files_all if (int(f[8:13]) > 1080 and int(f[8:13]) < 1420) ]\n",
    "# files_all = [f for f in files_all if (int(f[8:13]) > 725 and int(f[8:13]) < 1070) ]\n",
    "#files_all = [f for f in files_all if (int(f[8:13]) > 1430 and int(f[8:13]) < 2160) ]\n",
    "#files_all = [f for f in files_all if (int(f[8:13]) > 2340) ]\n",
    "# usamle = 100 # -1 read all https://pypi.org/project/lecroyparser/\n",
    "# files = [f for f in files_all if 'C3' in f]\n",
    "# under_th_C3 = wave(path, files, usamle, th = th)\n",
    "# print (\"C0\", len(under_th_C3))\n",
    "# files = [f for f in files_all if 'C1' in f]\n",
    "# under_th_C1 =wave(path, files, usamle, th = th)\n",
    "# print (\"C1\", len(under_th_C1))\n",
    "# files = [f for f in files_all if 'C2' in f]\n",
    "# under_th_C2 =wave(path, files, usamle, th = th)\n",
    "# print (\"C2\", len(under_th_C2))"
   ]
  },
  {
   "cell_type": "code",
   "execution_count": 285,
   "id": "f938244a",
   "metadata": {},
   "outputs": [],
   "source": [
    "# def wave_s_d(path, fC1, fC2, verbose=False):\n",
    "#     import numpy as np\n",
    "#     x_cut_min = -0.85e-7\n",
    "#     x_cut_max = -0.50e-7\n",
    "#     t_C1 = []\n",
    "#     t_C2 = []\n",
    "#     f = open(path+fC1, 'rb')\n",
    "#     data_C1 = lecroyparser.ScopeData(data = f.read(), sparse = usamle)\n",
    "#     f = open(path+fC2, 'rb')\n",
    "#     data_C2 = lecroyparser.ScopeData(data = f.read(), sparse = usamle)\n",
    "\n",
    "#     plt.plot(data_C1.x, data_C1.y, label=\"C1\")\n",
    "#     plt.plot(data_C1.x, data_C2.y, label=\"C2\")\n",
    "#     plt.axvline(x_cut_min)\n",
    "#     plt.axvline(x_cut_max)\n",
    "\n",
    "#     f.close()\n",
    "#     plt.legend()\n",
    "#     plt.ylim(-0.45, 0.05)\n",
    "#     plt.xlim(-1e-7, 0)\n",
    "#     plt.show()\n",
    "#     t0_C1 = data_C1.x[np.where(data_C1.y == data_C1.y.min())][0]\n",
    "#     t0_C2 = data_C2.x[np.where(data_C2.y == data_C2.y.min())][0]\n",
    "#     x0_C1 = np.min(data_C1.y[data_C1.x<x_cut_min])\n",
    "#     x0_C2 = np.min(data_C2.y[data_C2.x>x_cut_min])\n",
    "#     i0_C1 = np.trapz(data_C1.y[data_C1.x<x_cut_min])\n",
    "#     i0_C2 = np.trapz(data_C2.y[data_C2.x>x_cut_min])\n",
    "\n",
    "#     print(\" int: {:.2e}, min: {:.3f}, mean out of time: {:.2e} {}\".format(np.trapz(data_C1.x[data_C1.x>x_cut_min], \n",
    "#                                                                                 data_C1.y[data_C1.x>x_cut_min]),  \n",
    "#                                                          np.min(data_C1.y[data_C1.x>x_cut_min]), \n",
    "#                                                          np.mean(data_C1.y[data_C1.x<x_cut_min]), t0_C1))\n",
    "#     print(\" int: {:.2e}, min: {:.3f}, mean out of time: {:.2e} {}\".format(np.trapz(data_C2.x[data_C2.x>x_cut_min], \n",
    "#                                                                                 data_C2.y[data_C2.x>x_cut_min]),  \n",
    "#                                                          np.min(data_C2.y[data_C2.x>x_cut_min]), \n",
    "#                                                          np.mean(data_C2.y[data_C2.x<x_cut_min]), t0_C2))\n",
    "#     return t0_C1, t0_C2, x0_C1, x0_C2, i0_C1, i0_C2\n",
    "# i = 21\n",
    "# t_C1 = []\n",
    "# t_C2 = []\n",
    "# x_C1 = []\n",
    "# x_C2 = []\n",
    "# i_C1 = []\n",
    "# i_C2 = []\n",
    "# for i in range(np.min([len(under_th_C2), len(under_th_C1)])):\n",
    "#     t0_C1, t0_C2, x0_C1, x0_C2, i0_C1, i0_C2 = wave_s_d(path, under_th_C1[i], under_th_C2[i], verbose=True)\n",
    "#     t_C1.append(t0_C1)\n",
    "#     t_C2.append(t0_C2)\n",
    "#     x_C1.append(x0_C1)\n",
    "#     x_C2.append(x0_C2)\n",
    "#     i_C1.append(i0_C1)\n",
    "#     i_C2.append(i0_C2)\n"
   ]
  },
  {
   "cell_type": "code",
   "execution_count": null,
   "id": "e7d55169-e858-4229-b034-fc02faab4eee",
   "metadata": {},
   "outputs": [],
   "source": []
  }
 ],
 "metadata": {
  "kernelspec": {
   "display_name": "Python 3",
   "language": "python",
   "name": "python3"
  },
  "language_info": {
   "codemirror_mode": {
    "name": "ipython",
    "version": 3
   },
   "file_extension": ".py",
   "mimetype": "text/x-python",
   "name": "python",
   "nbconvert_exporter": "python",
   "pygments_lexer": "ipython3",
   "version": "3.6.8"
  }
 },
 "nbformat": 4,
 "nbformat_minor": 5
}
