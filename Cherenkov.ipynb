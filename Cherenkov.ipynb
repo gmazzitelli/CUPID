{
 "cells": [
  {
   "cell_type": "markdown",
   "id": "5f59cddd-9677-4458-8955-5125a6d28375",
   "metadata": {},
   "source": [
    "### valutazioni per CUPID di water chereckov per muon veto\n",
    "1. costi tanica + PMTs \n",
    "2. manutenzione\n",
    "3. efficienza nel tempo\n"
   ]
  },
  {
   "cell_type": "code",
   "execution_count": 1,
   "id": "7f807c6a-7f40-424f-9d73-dc66e80ed474",
   "metadata": {},
   "outputs": [
    {
     "name": "stdout",
     "output_type": "stream",
     "text": [
      "299792458 224844343.5 0.75 1.333 0.7224506579731304 41.39337360830973\n"
     ]
    }
   ],
   "source": [
    "import numpy as np\n",
    "c      = 299792458 # m / s\n",
    "Vp     =  0.75*c   # speed of light in H2O\n",
    "beta   = Vp/c\n",
    "n      = 1.333\n",
    "Eth_e  = 0.26      # MeV\n",
    "Eth_mu = 160       # MeV\n",
    "theta  = np.arccos(1/n)\n",
    "print(c, Vp, beta, n, theta, theta*180/np.pi )"
   ]
  },
  {
   "cell_type": "code",
   "execution_count": 2,
   "id": "652c092d-34d8-4e61-920a-0aaa4ab0300c",
   "metadata": {},
   "outputs": [
    {
     "name": "stdout",
     "output_type": "stream",
     "text": [
      "160.8 eV-1 cm-1, E lost by mu 2.4 MeV/cm ==> 385.9 ph/cm ==> 7718.4 ph/mu\n"
     ]
    }
   ],
   "source": [
    "Np     = 160.8 # eV-1 cm-1\n",
    "E_mu   = 2.4 # MeV/cm\n",
    "Ng     = Np*E_mu\n",
    "s      = 20 # spessore tanica\n",
    "print(\"{:.1f} eV-1 cm-1, E lost by mu {:.1f} MeV/cm ==> {:.1f} ph/cm ==> {:.1f} ph/mu\".format(Np, E_mu, Ng, Ng*s))"
   ]
  },
  {
   "cell_type": "code",
   "execution_count": 3,
   "id": "db4464cf-be0d-496f-99d9-9b7923d00186",
   "metadata": {},
   "outputs": [
    {
     "name": "stdout",
     "output_type": "stream",
     "text": [
      "Qunatum Efficecy of 14% ==> 1080.6 ph/mu\n"
     ]
    }
   ],
   "source": [
    "Qe = 0.14 #quantum efficency\n",
    "print(\"Qunatum Efficecy of {:.0f}% ==> {:.1f} ph/mu\".format(Qe*100, Ng*s*Qe))"
   ]
  },
  {
   "cell_type": "code",
   "execution_count": 9,
   "id": "adb70535-cdb1-4187-9dc5-75916ea38282",
   "metadata": {},
   "outputs": [
    {
     "name": "stdout",
     "output_type": "stream",
     "text": [
      "# tanke 52.0 cost 390.0 ke\n"
     ]
    }
   ],
   "source": [
    "ntank  = 4*2600/200\n",
    "x_tank = 200\n",
    "y_tank = 2200\n",
    "z_tank = 200\n",
    "tacnk_cost = 1.5 # offerta lime\n",
    "PMT_cost   = 3\n",
    "print(\"# tanke {:.1f} cost {:.1f} ke\".format(ntank, ntank*(tacnk_cost+2*PMT_cost)))"
   ]
  },
  {
   "cell_type": "markdown",
   "id": "d5269255-a8a0-4d76-8a28-622abea7aed1",
   "metadata": {},
   "source": [
    "- politilene 2000*1000*100 circa 1000 euro\n",
    "- 500 euro/m^2 per 10 cm\n",
    "- 2.7 per lato \n",
    "### da fare\n",
    "- solo schermo di neuron politilene (VF).\n",
    "- solo scherm di neutroni con taniche acqua (vasca di raccolta).\n",
    "- taniche instrumentate con acqua."
   ]
  },
  {
   "cell_type": "code",
   "execution_count": 26,
   "id": "6d235b9f-43ca-4550-9a37-5570990fb83e",
   "metadata": {},
   "outputs": [
    {
     "data": {
      "text/plain": [
       "104.0"
      ]
     },
     "execution_count": 26,
     "metadata": {},
     "output_type": "execute_result"
    }
   ],
   "source": []
  },
  {
   "cell_type": "code",
   "execution_count": 14,
   "id": "9eace663-75fa-4b3d-9a84-203bedaf600a",
   "metadata": {},
   "outputs": [
    {
     "name": "stdout",
     "output_type": "stream",
     "text": [
      "Politilene 8.99 ke/m^3\n"
     ]
    }
   ],
   "source": [
    "print(\"Politilene {:.2f} ke/m^3\".format(5.8/(8*1920*840*50/1e9))) # offeta lime plazzi"
   ]
  },
  {
   "cell_type": "code",
   "execution_count": 17,
   "id": "6ee3414e-7c89-4773-a9fb-64a76eddd80b",
   "metadata": {},
   "outputs": [
    {
     "name": "stdout",
     "output_type": "stream",
     "text": [
      "taniche 4.58 m^3\n"
     ]
    }
   ],
   "source": [
    "print(\"taniche {:.2f} m^3\".format(ntank*x_tank*y_tank*z_tank/1e9)) # offeta plazzi"
   ]
  },
  {
   "cell_type": "code",
   "execution_count": 18,
   "id": "721bf5d5-7f5b-4a30-ad52-d2e0dbb9d7ec",
   "metadata": {},
   "outputs": [
    {
     "data": {
      "text/plain": [
       "41.22"
      ]
     },
     "execution_count": 18,
     "metadata": {},
     "output_type": "execute_result"
    }
   ],
   "source": [
    "9*4.58"
   ]
  },
  {
   "cell_type": "code",
   "execution_count": 19,
   "id": "fca4f7ed-d298-4eb5-8f87-988c7f84c851",
   "metadata": {},
   "outputs": [
    {
     "data": {
      "text/plain": [
       "78.0"
      ]
     },
     "execution_count": 19,
     "metadata": {},
     "output_type": "execute_result"
    }
   ],
   "source": [
    "52*1.5\n"
   ]
  },
  {
   "cell_type": "code",
   "execution_count": null,
   "id": "0bf4eff8-ae9c-4265-a39a-9d5cff39bfb4",
   "metadata": {},
   "outputs": [],
   "source": []
  }
 ],
 "metadata": {
  "kernelspec": {
   "display_name": "Python 3",
   "language": "python",
   "name": "python3"
  },
  "language_info": {
   "codemirror_mode": {
    "name": "ipython",
    "version": 3
   },
   "file_extension": ".py",
   "mimetype": "text/x-python",
   "name": "python",
   "nbconvert_exporter": "python",
   "pygments_lexer": "ipython3",
   "version": "3.6.8"
  }
 },
 "nbformat": 4,
 "nbformat_minor": 5
}
